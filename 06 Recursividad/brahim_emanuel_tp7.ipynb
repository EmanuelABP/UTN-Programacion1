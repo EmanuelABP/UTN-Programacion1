{
 "cells": [
  {
   "cell_type": "markdown",
   "id": "2bcecc6a",
   "metadata": {},
   "source": [
    "1) Crea una función recursiva que calcule el factorial de un número. Luego, utiliza esa función para calcular y mostrar en pantalla el factorial de todos los números enteros entre 1 y el número que indique el usuario"
   ]
  },
  {
   "cell_type": "code",
   "execution_count": 2,
   "id": "ae259843",
   "metadata": {},
   "outputs": [
    {
     "name": "stdout",
     "output_type": "stream",
     "text": [
      "1! = 1\n",
      "2! = 2\n",
      "3! = 6\n"
     ]
    }
   ],
   "source": [
    "def factorial(n):\n",
    "    # Caso base: factorial de 0 es 1\n",
    "    if n == 0:\n",
    "        return 1\n",
    "    else:\n",
    "        # Llamada recursiva: n * factorial de (n-1)\n",
    "        return n * factorial(n - 1)\n",
    "\n",
    "# Pedimos al usuario un número entero\n",
    "limite = int(input(\"Ingrese un número: \"))\n",
    "\n",
    "# Iteramos desde 1 hasta el número ingresado (inclusive)\n",
    "for i in range(1, limite + 1):\n",
    "    # Calculamos e imprimimos el factorial de i\n",
    "    print(f\"{i}! = {factorial(i)}\")\n"
   ]
  },
  {
   "cell_type": "markdown",
   "id": "7ea4901b",
   "metadata": {},
   "source": [
    "2) Crea una función recursiva que calcule el valor de la serie de Fibonacci en la posición indicada. Posteriormente, muestra la serie completa hasta la posición que el usuario especifique."
   ]
  },
  {
   "cell_type": "code",
   "execution_count": 5,
   "id": "6d8139c0",
   "metadata": {},
   "outputs": [
    {
     "name": "stdout",
     "output_type": "stream",
     "text": [
      "fibonacci(0) = 0\n",
      "fibonacci(1) = 1\n"
     ]
    }
   ],
   "source": [
    "def fibonacci(n):\n",
    "    # Casos base: fibonacci(0) = 0, fibonacci(1) = 1\n",
    "    if n == 0 or n == 1:\n",
    "        return n\n",
    "    else:\n",
    "        # Llamada recursiva: suma de las dos posiciones anteriores\n",
    "        return fibonacci(n - 1) + fibonacci(n - 2)\n",
    "\n",
    "# Pedimos la posición hasta donde mostrar la serie\n",
    "pos = int(input(\"Ingrese una posición: \"))\n",
    "\n",
    "# Iteramos desde 0 hasta la posición indicada\n",
    "for i in range(pos + 1):\n",
    "    # Calculamos e imprimimos fibonacci en la posición i\n",
    "    print(f\"fibonacci({i}) = {fibonacci(i)}\")\n"
   ]
  },
  {
   "cell_type": "markdown",
   "id": "46ba9f92",
   "metadata": {},
   "source": [
    "3) Crea una función recursiva que calcule la potencia de un número base elevado a un exponente, utilizando la fórmula 𝑛𝑚 = 𝑛 ∗ 𝑛(𝑚−1). Prueba esta función en un algoritmo general."
   ]
  },
  {
   "cell_type": "code",
   "execution_count": 6,
   "id": "c448ded8",
   "metadata": {},
   "outputs": [
    {
     "name": "stdout",
     "output_type": "stream",
     "text": [
      "3^5 = 243\n"
     ]
    }
   ],
   "source": [
    "def potencia(base, exponente):\n",
    "    # Caso base: cualquier número elevado a 0 es 1\n",
    "    if exponente == 0:\n",
    "        return 1\n",
    "    else:\n",
    "        # Paso recursivo: base * potencia(base, exponente-1)\n",
    "        return base * potencia(base, exponente - 1)\n",
    "\n",
    "# Solicitamos base y exponente al usuario\n",
    "b = int(input(\"Base: \"))\n",
    "e = int(input(\"Exponente: \"))\n",
    "\n",
    "# Mostramos el resultado de la potencia\n",
    "print(f\"{b}^{e} = {potencia(b, e)}\")\n"
   ]
  },
  {
   "cell_type": "markdown",
   "id": "d80fe94e",
   "metadata": {},
   "source": [
    "4) Crear una función recursiva en Python que reciba un número entero positivo en base decimal y devuelva su representación en binario como una cadena de texto. Cuando representamos un número en binario, lo expresamos usando solamente ceros (0) y unos (1), en base 2. Para convertir un número decimal a binario, se puede seguir este procedimiento:\n",
    "1. Dividir el número por 2.\n",
    "2. Guardar el resto (0 o 1).\n",
    "3. Repetir el proceso con el cociente hasta que llegue a 0.\n",
    "4. Los restos obtenidos, leídos de abajo hacia arriba, forman el número binario\n",
    "🧠 Ejemplo:\n",
    "Convertir el número 10 a binario:\n",
    "10 ÷ 2 = 5 resto: 0\n",
    "5 ÷ 2 = 2 resto: 1\n",
    "2 ÷ 2 = 1 resto: 0\n",
    "1 ÷ 2 = 0 resto: 1\n",
    "Leyendo los restos de abajo hacia arriba: 1 0 1 0 → El resultado binario es \"1010\""
   ]
  },
  {
   "cell_type": "code",
   "execution_count": 10,
   "id": "9f38b00f",
   "metadata": {},
   "outputs": [
    {
     "name": "stdout",
     "output_type": "stream",
     "text": [
      "Binario: 1010\n"
     ]
    }
   ],
   "source": [
    "def decimal_a_binario(n):\n",
    "    # Caso base: si n es 0, retornamos cadena vacía\n",
    "    if n == 0:\n",
    "        return \"\"\n",
    "    else:\n",
    "        # Dividimos el número por 2 y llamamos recursivamente con el cociente\n",
    "        # Concatenamos el resto como string al final\n",
    "        return decimal_a_binario(n // 2) + str(n % 2)\n",
    "\n",
    "# Pedimos un número decimal al usuario\n",
    "num = int(input(\"Ingrese un número decimal: \"))\n",
    "\n",
    "# Obtenemos la representación binaria\n",
    "binario = decimal_a_binario(num)\n",
    "\n",
    "# Imprimimos el binario, o \"0\" si la cadena está vacía (caso n=0)\n",
    "print(\"Binario:\", binario if binario else \"0\")\n"
   ]
  },
  {
   "cell_type": "markdown",
   "id": "1b977c2d",
   "metadata": {},
   "source": [
    "5) Implementá una función recursiva llamada es_palindromo(palabra) que reciba una cadena de texto sin espacios ni tildes, y devuelva True si es un palíndromo o False si no lo es.\n",
    "Requisitos:\n",
    "La solución debe ser recursiva.\n",
    "No se debe usar [::-1] ni la función reversed()."
   ]
  },
  {
   "cell_type": "code",
   "execution_count": 13,
   "id": "46b31157",
   "metadata": {},
   "outputs": [
    {
     "name": "stdout",
     "output_type": "stream",
     "text": [
      "True\n",
      "False\n"
     ]
    }
   ],
   "source": [
    "def es_palindromo(palabra):\n",
    "    # Caso base 1: palabra vacía o de un solo carácter es palíndromo\n",
    "    if len(palabra) <= 1:\n",
    "        return True\n",
    "    # Caso base 2: si primer y último carácter no coinciden, no es palíndromo\n",
    "    elif palabra[0] != palabra[-1]:\n",
    "        return False\n",
    "    else:\n",
    "        # Llamada recursiva: quitamos primer y último carácter y verificamos el resto\n",
    "        return es_palindromo(palabra[1:-1])\n",
    "\n",
    "# Ejemplos de prueba\n",
    "print(es_palindromo(\"oso\"))  # True\n",
    "print(es_palindromo(\"emanuel\"))     # False\n"
   ]
  },
  {
   "cell_type": "markdown",
   "id": "59f7ca77",
   "metadata": {},
   "source": [
    "6) Escribí una función recursiva en Python llamada suma_digitos(n) que reciba un número entero positivo y devuelva la suma de todos sus dígitos.\n",
    "Restricciones:\n",
    "No se puede convertir el número a string.\n",
    "Usá operaciones matemáticas (%, //) y recursión.\n",
    "Ejemplos:\n",
    "suma_digitos(1234) → 10 (1 + 2 + 3 + 4)\n",
    "suma_digitos(9) → 9\n",
    "suma_digitos(305) → 8 (3 + 0 + 5)"
   ]
  },
  {
   "cell_type": "code",
   "execution_count": 14,
   "id": "bd9a89d4",
   "metadata": {},
   "outputs": [
    {
     "name": "stdout",
     "output_type": "stream",
     "text": [
      "10\n",
      "8\n"
     ]
    }
   ],
   "source": [
    "def suma_digitos(n):\n",
    "    # Caso base: si el número es menor a 10, retornamos el mismo número\n",
    "    if n < 10:\n",
    "        return n\n",
    "    else:\n",
    "        # Sumamos el último dígito (n % 10) más la suma de los dígitos del resto (n // 10)\n",
    "        return n % 10 + suma_digitos(n // 10)\n",
    "\n",
    "# Ejemplos de prueba\n",
    "print(suma_digitos(1234))  # 10\n",
    "print(suma_digitos(305))   # 8\n"
   ]
  },
  {
   "cell_type": "markdown",
   "id": "25c1f787",
   "metadata": {},
   "source": [
    "7) Un niño está construyendo una pirámide con bloques. En el nivel más bajo coloca n bloques, en el siguiente nivel uno menos (n - 1), y así sucesivamente hasta llegar al último nivel con un solo bloque. Escribí una función recursiva contar_bloques(n) que reciba el número de bloques en el nivel más bajo y devuelva el total de bloques que necesita para construir toda la pirámide.\n",
    "Ejemplos:\n",
    "contar_bloques(1) → 1 (1)\n",
    "contar_bloques(2) → 3 (2 + 1)\n",
    "contar_bloques(4) → 10 (4 + 3 + 2 + 1)"
   ]
  },
  {
   "cell_type": "code",
   "execution_count": 15,
   "id": "1b8ba8c9",
   "metadata": {},
   "outputs": [
    {
     "name": "stdout",
     "output_type": "stream",
     "text": [
      "10\n"
     ]
    }
   ],
   "source": [
    "def contar_bloques(n):\n",
    "    # Caso base: si solo queda un nivel, devuelve 1 bloque\n",
    "    if n == 1:\n",
    "        return 1\n",
    "    else:\n",
    "        # Suma bloques del nivel actual más la suma de niveles anteriores\n",
    "        return n + contar_bloques(n - 1)\n",
    "\n",
    "# Ejemplo de prueba\n",
    "print(contar_bloques(4))  # 10\n"
   ]
  },
  {
   "cell_type": "markdown",
   "id": "89515662",
   "metadata": {},
   "source": [
    "8) Escribí una función recursiva llamada contar_digito(numero, digito) que reciba un número entero positivo (numero) y un dígito (entre 0 y 9), y devuelva cuántas veces aparece ese dígito dentro del número.\n",
    "Ejemplos:\n",
    "contar_digito(12233421, 2) → 3\n",
    "contar_digito(5555, 5) → 4\n",
    "contar_digito(123456, 7) → 0"
   ]
  },
  {
   "cell_type": "code",
   "execution_count": 16,
   "id": "13ba3343",
   "metadata": {},
   "outputs": [
    {
     "name": "stdout",
     "output_type": "stream",
     "text": [
      "3\n"
     ]
    }
   ],
   "source": [
    "def contar_digito(numero, digito):\n",
    "    # Caso base: si el número es 0, no quedan más dígitos\n",
    "    if numero == 0:\n",
    "        return 0\n",
    "    # Si el último dígito es igual al buscado, sumamos 1 + resultado de llamar con el resto\n",
    "    elif numero % 10 == digito:\n",
    "        return 1 + contar_digito(numero // 10, digito)\n",
    "    else:\n",
    "        # Si no coincide, solo continuamos con el resto del número\n",
    "        return contar_digito(numero // 10, digito)\n",
    "\n",
    "# Ejemplo de prueba\n",
    "print(contar_digito(12233421, 2))  # 3\n"
   ]
  }
 ],
 "metadata": {
  "kernelspec": {
   "display_name": "Python 3",
   "language": "python",
   "name": "python3"
  },
  "language_info": {
   "codemirror_mode": {
    "name": "ipython",
    "version": 3
   },
   "file_extension": ".py",
   "mimetype": "text/x-python",
   "name": "python",
   "nbconvert_exporter": "python",
   "pygments_lexer": "ipython3",
   "version": "3.11.9"
  }
 },
 "nbformat": 4,
 "nbformat_minor": 5
}
