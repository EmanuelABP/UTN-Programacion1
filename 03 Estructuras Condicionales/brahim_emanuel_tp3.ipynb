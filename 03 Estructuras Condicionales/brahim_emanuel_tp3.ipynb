{
 "cells": [
  {
   "cell_type": "markdown",
   "id": "3b986d75",
   "metadata": {},
   "source": [
    "1) Escribir un programa que solicite la edad del usuario. Si el usuario es mayor de 18 años,\n",
    "deberá mostrar un mensaje en pantalla que diga “Es mayor de edad”."
   ]
  },
  {
   "cell_type": "code",
   "execution_count": 2,
   "id": "432549dc",
   "metadata": {},
   "outputs": [
    {
     "name": "stdout",
     "output_type": "stream",
     "text": [
      "Es mayor de edad\n"
     ]
    }
   ],
   "source": [
    "edad = int(input(\"Ingrese su edad: \")) #a la variable edad se le almacena el valor entero ingresado por el usuario\n",
    "if edad > 18: #si el valor de edad es mayor a 18 se ejecuta lo del if\n",
    "    print(\"Es mayor de edad\") #se imprime el texto\n"
   ]
  },
  {
   "cell_type": "markdown",
   "id": "1771d0ef",
   "metadata": {},
   "source": [
    "2) Escribir un programa que solicite su nota al usuario. Si la nota es mayor o igual a 6, deberá\n",
    "mostrar por pantalla un mensaje que diga “Aprobado”; en caso contrario deberá mostrar el\n",
    "mensaje “Desaprobado”.\n"
   ]
  },
  {
   "cell_type": "code",
   "execution_count": null,
   "id": "478c403b",
   "metadata": {},
   "outputs": [
    {
     "name": "stdout",
     "output_type": "stream",
     "text": [
      "Aprobado\n"
     ]
    }
   ],
   "source": [
    "nota = int(input(\"Ingrese su nota: \")) # en nota se almacena el valor entero que ingresa el usuario\n",
    "if nota >= 6: #si el valor de nota es mayor o igual a 6 ejecuta el if\n",
    "    print(\"Aprobado\")\n",
    "else: # si no ejecuta el else\n",
    "    print(\"Desaprobado\")\n"
   ]
  },
  {
   "cell_type": "markdown",
   "id": "9c5662ce",
   "metadata": {},
   "source": [
    "3) Escribir un programa que permita ingresar solo números pares. Si el usuario ingresa un\n",
    "número par, imprimir por en pantalla el mensaje \"Ha ingresado un número par\"; en caso\n",
    "contrario, imprimir por pantalla \"Por favor, ingrese un número par\". Nota: investigar el uso del\n",
    "operador de módulo (%) en Python para evaluar si un número es par o impar.\n"
   ]
  },
  {
   "cell_type": "code",
   "execution_count": null,
   "id": "9e60faa8",
   "metadata": {},
   "outputs": [
    {
     "name": "stdout",
     "output_type": "stream",
     "text": [
      "Por favor, ingrese un número par\n"
     ]
    }
   ],
   "source": [
    "numero = int(input(\"Ingrese un número par: \")) #se almacena el numero ingresado por el usuario\n",
    "if numero % 2 == 0: #si el resto del numero ingresado dividido 2 es igual a 0 se ingresa al if para imprimir que es par\n",
    "    print(\"Ha ingresado un número par\")\n",
    "else:# sino al else para imprimir que ingrese un numero par\n",
    "    print(\"Por favor, ingrese un número par\")\n"
   ]
  },
  {
   "cell_type": "markdown",
   "id": "3abf50af",
   "metadata": {},
   "source": [
    "4) Escribir un programa que solicite al usuario su edad e imprima por pantalla a cuál de las\n",
    "siguientes categorías pertenece:\n",
    "● Niño/a: menor de 12 años.\n",
    "● Adolescente: mayor o igual que 12 años y menor que 18 años.\n",
    "● Adulto/a joven: mayor o igual que 18 años y menor que 30 años.\n",
    "● Adulto/a: mayor o igual que 30 años."
   ]
  },
  {
   "cell_type": "code",
   "execution_count": null,
   "id": "8923c9c6",
   "metadata": {},
   "outputs": [
    {
     "name": "stdout",
     "output_type": "stream",
     "text": [
      "Adulto/a joven\n"
     ]
    }
   ],
   "source": [
    "edad = int(input(\"Ingrese su edad: \")) #en edad se almacena el numero entero que ingresa el usuario\n",
    "if edad < 12: #si la edad es menor a 12 ejecuta el if y finaliza el recorrido.\n",
    "    print(\"Niño/a\")\n",
    "elif edad < 18: #Si no cumple el if anterior se fija si es menor a 18 y si lo cumple se ejecuta y finaliza el recorrido\n",
    "    print(\"Adolescente\")\n",
    "elif edad < 30: #si no cumple el elif anterior se fija si es menor a 30 y si lo cumple se ejecuta y finaliza el recorrido\n",
    "    print(\"Adulto/a joven\")\n",
    "else: #si no cumple ninguno de los anteriores ejecuta el else y finaliza\n",
    "    print(\"Adulto/a\")\n"
   ]
  },
  {
   "cell_type": "markdown",
   "id": "3bfdf354",
   "metadata": {},
   "source": [
    "5) Escribir un programa que permita introducir contraseñas de entre 8 y 14 caracteres\n",
    "(incluyendo 8 y 14). Si el usuario ingresa una contraseña de longitud adecuada, imprimir por en\n",
    "pantalla el mensaje \"Ha ingresado una contraseña correcta\"; en caso contrario, imprimir por\n",
    "pantalla \"Por favor, ingrese una contraseña de entre 8 y 14 caracteres\". Nota: investigue el uso\n",
    "de la función len() en Python para evaluar la cantidad de elementos que tiene un iterable tal\n",
    "como una lista o un string.\n"
   ]
  },
  {
   "cell_type": "code",
   "execution_count": null,
   "id": "9070df3b",
   "metadata": {},
   "outputs": [
    {
     "name": "stdout",
     "output_type": "stream",
     "text": [
      "Por favor, ingrese una contraseña de entre 8 y 14 caracteres\n"
     ]
    }
   ],
   "source": [
    "contraseña = input(\"Ingrese una contraseña: \") #se ingresa la contraseña\n",
    "if 8 <= len(contraseña) <= 14: #len es el largo de la variable, si la contraseña es mayor o igual a 8 y ademas es menor o igual a 14 ingresa al if\n",
    "    print(\"Ha ingresado una contraseña correcta\")\n",
    "else: #si no cumple con el if ejecuta el else\n",
    "    print(\"Por favor, ingrese una contraseña de entre 8 y 14 caracteres\")\n"
   ]
  },
  {
   "cell_type": "markdown",
   "id": "5997a184",
   "metadata": {},
   "source": [
    "6) El paquete statistics de python contiene funciones que permiten tomar una lista de números\n",
    "y calcular la moda, la mediana y la media de dichos números. Un ejemplo de su uso es el\n",
    "siguiente:\n",
    "from statistics import mode, median, mean\n",
    "mi_lista = [1,2,5,5,3]\n",
    "mean(mi_lista)\n",
    "En la documentación oficial se puede encontrar más información sobre este paquete:\n",
    "https://docs.python.org/es/3.8/library/statistics.html.\n",
    "La moda (mode), la mediana (median) y la media (mean) son parámetros estadísticos que se\n",
    "pueden utilizar para predecir la forma de una distribución normal a partir del siguiente criterio:\n",
    "● Sesgo positivo o a la derecha: cuando la media es mayor que la mediana y, a su vez, la\n",
    "mediana es mayor que la moda.\n",
    "● Sesgo negativo o a la izquierda: cuando la media es menor que la mediana y, a su vez,\n",
    "la mediana es menor que la moda.\n",
    "● Sin sesgo: cuando la media, la mediana y la moda son iguales.\n",
    "Teniendo en cuenta lo antes mencionado, escribir un programa que tome la lista\n",
    "numeros_aleatorios, calcule su moda, su mediana y su media y las compare para determinar si\n",
    "hay sesgo positivo, negativo o no hay sesgo. Imprimir el resultado por pantalla.\n",
    "Definir la lista numeros_aleatorios de la siguiente forma:\n",
    "import random\n",
    "numeros_aleatorios = [random.randint(1, 100) for i in range(50)]\n",
    "Nota: el bloque de código anterior crea una lista con 50 números entre 1 y 100 elegidos de\n",
    "forma aleatoria."
   ]
  },
  {
   "cell_type": "code",
   "execution_count": 8,
   "id": "300ae657",
   "metadata": {},
   "outputs": [
    {
     "name": "stdout",
     "output_type": "stream",
     "text": [
      "Media: 58.22\n",
      "Mediana: 57.5\n",
      "Moda: 32\n",
      "Sesgo positivo o a la derecha\n"
     ]
    }
   ],
   "source": [
    "# Importamos las funciones necesarias\n",
    "from statistics import mode, median, mean\n",
    "import random\n",
    "\n",
    "# Generamos una lista aleatoria de 50 números entre 1 y 100\n",
    "numeros_aleatorios = [random.randint(1, 100) for i in range(50)]\n",
    "\n",
    "# Calculamos moda, mediana y media\n",
    "media = mean(numeros_aleatorios)\n",
    "mediana = median(numeros_aleatorios)\n",
    "moda = mode(numeros_aleatorios)\n",
    "\n",
    "# Mostramos los resultados\n",
    "print(\"Media:\", media)\n",
    "print(\"Mediana:\", mediana)\n",
    "print(\"Moda:\", moda)\n",
    "\n",
    "# Analizamos el sesgo\n",
    "if media > mediana > moda:\n",
    "    print(\"Sesgo positivo o a la derecha\")\n",
    "elif media < mediana < moda:\n",
    "    print(\"Sesgo negativo o a la izquierda\")\n",
    "elif media == mediana == moda:\n",
    "    print(\"Distribución sin sesgo\")\n",
    "else:\n",
    "    print(\"No se puede determinar claramente el sesgo\")\n"
   ]
  },
  {
   "cell_type": "markdown",
   "id": "6c31640c",
   "metadata": {},
   "source": [
    "7) Escribir un programa que solicite una frase o palabra al usuario. Si el string ingresado\n",
    "termina con vocal, añadir un signo de exclamación al final e imprimir el string resultante por\n",
    "pantalla; en caso contrario, dejar el string tal cual lo ingresó el usuario e imprimirlo por\n",
    "pantalla.\n"
   ]
  },
  {
   "cell_type": "code",
   "execution_count": 10,
   "id": "a948c8d5",
   "metadata": {},
   "outputs": [
    {
     "name": "stdout",
     "output_type": "stream",
     "text": [
      "Resultado: Hola mundo!\n"
     ]
    }
   ],
   "source": [
    "# Pedimos una frase al usuario\n",
    "frase = input(\"Ingresá una frase o palabra: \")\n",
    "\n",
    "# Verificamos si la última letra es una vocal (minúscula o mayúscula)\n",
    "if frase[-1].lower() in \"aeiou\":\n",
    "    frase += \"!\"  # Agregamos signo de exclamación\n",
    "    print(\"Resultado:\", frase)\n",
    "else:\n",
    "    print(\"Resultado:\", frase)\n"
   ]
  },
  {
   "cell_type": "markdown",
   "id": "c84fe35e",
   "metadata": {},
   "source": [
    "8) Escribir un programa que solicite al usuario que ingrese su nombre y el número 1, 2 o 3\n",
    "dependiendo de la opción que desee:\n",
    "1. Si quiere su nombre en mayúsculas. Por ejemplo: PEDRO.\n",
    "2. Si quiere su nombre en minúsculas. Por ejemplo: pedro.\n",
    "3. Si quiere su nombre con la primera letra mayúscula. Por ejemplo: Pedro.\n",
    "El programa debe transformar el nombre ingresado de acuerdo a la opción seleccionada por el\n",
    "usuario e imprimir el resultado por pantalla. Nota: investigue uso de las funciones upper(),\n",
    "lower() y title() de Python para convertir entre mayúsculas y minúsculas.\n"
   ]
  },
  {
   "cell_type": "code",
   "execution_count": 11,
   "id": "640a00c6",
   "metadata": {},
   "outputs": [
    {
     "name": "stdout",
     "output_type": "stream",
     "text": [
      "Elegí una opción:\n",
      "1. Nombre en MAYÚSCULAS\n",
      "2. Nombre en minúsculas\n",
      "3. Nombre con la primera letra en mayúscula\n",
      "EMANUEL\n"
     ]
    }
   ],
   "source": [
    "# Pedimos el nombre del usuario\n",
    "nombre = input(\"Ingresá tu nombre: \")\n",
    "\n",
    "# Mostramos las opciones\n",
    "print(\"Elegí una opción:\")\n",
    "print(\"1. Nombre en MAYÚSCULAS\")\n",
    "print(\"2. Nombre en minúsculas\")\n",
    "print(\"3. Nombre con la primera letra en mayúscula\")\n",
    "\n",
    "# Pedimos la opción\n",
    "opcion = input(\"Ingresá 1, 2 o 3: \")\n",
    "\n",
    "# Convertimos según la opción elegida\n",
    "if opcion == \"1\":\n",
    "    print(nombre.upper())\n",
    "elif opcion == \"2\":\n",
    "    print(nombre.lower())\n",
    "elif opcion == \"3\":\n",
    "    print(nombre.title())\n",
    "else:\n",
    "    print(\"Opción inválida\")\n"
   ]
  },
  {
   "cell_type": "markdown",
   "id": "0ced4580",
   "metadata": {},
   "source": [
    "9) Escribir un programa que pida al usuario la magnitud de un terremoto, clasifique la\n",
    "magnitud en una de las siguientes categorías según la escala de Richter e imprima el resultado\n",
    "por pantalla:\n",
    "● Menor que 3: \"Muy leve\" (imperceptible).\n",
    "● Mayor o igual que 3 y menor que 4: \"Leve\" (ligeramente perceptible).\n",
    "● Mayor o igual que 4 y menor que 5: \"Moderado\" (sentido por personas, pero\n",
    "generalmente no causa daños).\n",
    "● Mayor o igual que 5 y menor que 6: \"Fuerte\" (puede causar daños en estructuras\n",
    "débiles).\n",
    "● Mayor o igual que 6 y menor que 7: \"Muy Fuerte\" (puede causar daños significativos).\n",
    "● Mayor o igual que 7: \"Extremo\" (puede causar graves daños a gran escala)."
   ]
  },
  {
   "cell_type": "code",
   "execution_count": 12,
   "id": "4e1175c6",
   "metadata": {},
   "outputs": [
    {
     "name": "stdout",
     "output_type": "stream",
     "text": [
      "Muy leve (imperceptible)\n"
     ]
    }
   ],
   "source": [
    "# Pedimos al usuario una magnitud\n",
    "magnitud = float(input(\"Ingresá la magnitud del terremoto: \"))\n",
    "\n",
    "# Evaluamos según la escala de Richter\n",
    "if magnitud < 3:\n",
    "    print(\"Muy leve (imperceptible)\")\n",
    "elif 3 <= magnitud < 4:\n",
    "    print(\"Leve (ligeramente perceptible)\")\n",
    "elif 4 <= magnitud < 5:\n",
    "    print(\"Moderado (sentido por personas, sin daños)\")\n",
    "elif 5 <= magnitud < 6:\n",
    "    print(\"Fuerte (daños en estructuras débiles)\")\n",
    "elif 6 <= magnitud < 7:\n",
    "    print(\"Muy fuerte (daños significativos)\")\n",
    "else:\n",
    "    print(\"Extremo (graves daños a gran escala)\")\n"
   ]
  },
  {
   "cell_type": "markdown",
   "id": "4c13e46c",
   "metadata": {},
   "source": [
    "10) Utilizando la información aportada en la siguiente tabla sobre las estaciones del año\n",
    "\n",
    "\n",
    "Periodo del año                                     Estacion en el               Estacion en el\n",
    "                                                    Hemisferio Norte             Hemisferio sur\n",
    "\n",
    "Desde el 21 de diciembre hasta el 20 de             Invierno                       Verano\n",
    "marzo (incluidos)\n",
    "\n",
    "Desde el 21 de marzo hasta el 20 de junio           Primavera                      Otoño\n",
    "(incluidos)\n",
    "\n",
    "Desde el 21 de junio hasta el 20 de                 Verano                         Invierno\n",
    "septiembre (incluidos)\n",
    "\n",
    "Desde el 21 de septiembre hasta el 20 de            Otoño                          Primavera\n",
    "diciembre (incluidos)\n",
    "\n",
    "\n",
    "Escribir un programa que pregunte al usuario en cuál hemisferio se encuentra (N/S), qué mes\n",
    "del año es y qué día es. El programa deberá utilizar esa información para imprimir por pantalla\n",
    "si el usuario se encuentra en otoño, invierno, primavera o verano.\n"
   ]
  },
  {
   "cell_type": "code",
   "execution_count": 13,
   "id": "73f1968c",
   "metadata": {},
   "outputs": [
    {
     "name": "stdout",
     "output_type": "stream",
     "text": [
      "Estación actual: Primavera\n"
     ]
    }
   ],
   "source": [
    "# Pedimos al usuario el hemisferio\n",
    "hemisferio = input(\"¿En qué hemisferio estás? (N/S): \").upper()\n",
    "\n",
    "# Pedimos el mes (en número) y el día\n",
    "mes = int(input(\"Ingresá el mes (1 a 12): \"))\n",
    "dia = int(input(\"Ingresá el día: \"))\n",
    "\n",
    "# Convertimos fecha a formato comparable\n",
    "fecha = (mes, dia)\n",
    "\n",
    "# Determinamos la estación\n",
    "if hemisferio == \"N\":\n",
    "    if (mes == 12 and dia >= 21) or (mes in [1, 2]) or (mes == 3 and dia <= 20):\n",
    "        estacion = \"Invierno\"\n",
    "    elif (mes == 3 and dia >= 21) or (mes in [4, 5]) or (mes == 6 and dia <= 20):\n",
    "        estacion = \"Primavera\"\n",
    "    elif (mes == 6 and dia >= 21) or (mes in [7, 8]) or (mes == 9 and dia <= 20):\n",
    "        estacion = \"Verano\"\n",
    "    elif (mes == 9 and dia >= 21) or (mes in [10, 11]) or (mes == 12 and dia <= 20):\n",
    "        estacion = \"Otoño\"\n",
    "elif hemisferio == \"S\":\n",
    "    if (mes == 12 and dia >= 21) or (mes in [1, 2]) or (mes == 3 and dia <= 20):\n",
    "        estacion = \"Verano\"\n",
    "    elif (mes == 3 and dia >= 21) or (mes in [4, 5]) or (mes == 6 and dia <= 20):\n",
    "        estacion = \"Otoño\"\n",
    "    elif (mes == 6 and dia >= 21) or (mes in [7, 8]) or (mes == 9 and dia <= 20):\n",
    "        estacion = \"Invierno\"\n",
    "    elif (mes == 9 and dia >= 21) or (mes in [10, 11]) or (mes == 12 and dia <= 20):\n",
    "        estacion = \"Primavera\"\n",
    "else:\n",
    "    estacion = \"Hemisferio inválido\"\n",
    "\n",
    "print(\"Estación actual:\", estacion)\n"
   ]
  }
 ],
 "metadata": {
  "kernelspec": {
   "display_name": "Python 3",
   "language": "python",
   "name": "python3"
  },
  "language_info": {
   "codemirror_mode": {
    "name": "ipython",
    "version": 3
   },
   "file_extension": ".py",
   "mimetype": "text/x-python",
   "name": "python",
   "nbconvert_exporter": "python",
   "pygments_lexer": "ipython3",
   "version": "3.11.9"
  }
 },
 "nbformat": 4,
 "nbformat_minor": 5
}
