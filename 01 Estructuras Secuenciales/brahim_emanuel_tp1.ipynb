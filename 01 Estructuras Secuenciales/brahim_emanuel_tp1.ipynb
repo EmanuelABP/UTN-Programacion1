{
 "cells": [
  {
   "cell_type": "markdown",
   "id": "f4624413",
   "metadata": {},
   "source": [
    "#1) Crear un programa que imprima por pantalla el mensaje: “Hola Mundo!”"
   ]
  },
  {
   "cell_type": "code",
   "execution_count": 1,
   "id": "df071cee",
   "metadata": {},
   "outputs": [
    {
     "name": "stdout",
     "output_type": "stream",
     "text": [
      "Hola Mundo!\n"
     ]
    }
   ],
   "source": [
    "print(\"Hola Mundo!\")"
   ]
  },
  {
   "cell_type": "markdown",
   "id": "8030baa2",
   "metadata": {},
   "source": [
    "#2) Crear un programa que pida al usuario su nombre e imprima por pantalla un saludo usando el nombre ingresado."
   ]
  },
  {
   "cell_type": "code",
   "execution_count": 2,
   "id": "035ab022",
   "metadata": {},
   "outputs": [
    {
     "name": "stdout",
     "output_type": "stream",
     "text": [
      "Hola emanuel!\n"
     ]
    }
   ],
   "source": [
    "nombre = input(\"Como te llamas? \")\n",
    "print(f\"Hola {nombre}!\")"
   ]
  },
  {
   "cell_type": "markdown",
   "id": "c581f8ed",
   "metadata": {},
   "source": [
    "#3) Crear un programa que pida al usuario su nombre, apellido, edad y lugar de residencia e imprima por pantalla una oración con los datos ingresados."
   ]
  },
  {
   "cell_type": "code",
   "execution_count": 3,
   "id": "3212b0b3",
   "metadata": {},
   "outputs": [
    {
     "name": "stdout",
     "output_type": "stream",
     "text": [
      "Soy emanuel brahim, tengo 22 años y vivo en colon.\n"
     ]
    }
   ],
   "source": [
    "nombre = input(\"Cual es tu nombre? \")\n",
    "apellido = input(\"Cual es tu apellido? \")\n",
    "edad = input(\"Cuantos años tienes? \")\n",
    "residencia = input(\"Donde vives? \")\n",
    "print(f\"Soy {nombre} {apellido}, tengo {edad} años y vivo en {residencia}.\")"
   ]
  },
  {
   "cell_type": "markdown",
   "id": "87ffc8e6",
   "metadata": {},
   "source": [
    "#4) Crear un programa que pida al usuario el radio de un círculo e imprima por pantalla su área y su perímetro."
   ]
  },
  {
   "cell_type": "code",
   "execution_count": 4,
   "id": "f458b329",
   "metadata": {},
   "outputs": [
    {
     "name": "stdout",
     "output_type": "stream",
     "text": [
      "Area: 314.16\n",
      "Perimetro: 62.83\n"
     ]
    }
   ],
   "source": [
    "import math\n",
    "\n",
    "radio = float(input(\"Introduce el radio del circulo: \"))\n",
    "area = math.pi * radio ** 2\n",
    "perimetro = 2 * math.pi * radio\n",
    "print(f\"Area: {area:.2f}\")\n",
    "print(f\"Perimetro: {perimetro:.2f}\")"
   ]
  },
  {
   "cell_type": "markdown",
   "id": "f8938ff4",
   "metadata": {},
   "source": [
    "#5) Crear un programa que pida al usuario una cantidad de segundos e imprima por pantalla a cuántas horas equivale."
   ]
  },
  {
   "cell_type": "code",
   "execution_count": 7,
   "id": "d41f2f1a",
   "metadata": {},
   "outputs": [
    {
     "name": "stdout",
     "output_type": "stream",
     "text": [
      "15360 segundos son 4 horas y 960 segundos.\n"
     ]
    }
   ],
   "source": [
    "segundos = int(input(\"Introduce una cantidad de segundos: \"))\n",
    "horas = segundos // 3600\n",
    "segundos_restantes = segundos % 3600\n",
    "print(f\"{segundos} segundos son {horas} horas y {segundos_restantes} segundos.\")"
   ]
  },
  {
   "cell_type": "markdown",
   "id": "259b0c84",
   "metadata": {},
   "source": [
    "#6) Crear un programa que pida al usuario un número e imprima por pantalla la tabla de multiplicar de dicho número."
   ]
  },
  {
   "cell_type": "code",
   "execution_count": 8,
   "id": "77565a51",
   "metadata": {},
   "outputs": [
    {
     "name": "stdout",
     "output_type": "stream",
     "text": [
      "20 x 1 = 20\n",
      "20 x 2 = 40\n",
      "20 x 3 = 60\n",
      "20 x 4 = 80\n",
      "20 x 5 = 100\n",
      "20 x 6 = 120\n",
      "20 x 7 = 140\n",
      "20 x 8 = 160\n",
      "20 x 9 = 180\n",
      "20 x 10 = 200\n"
     ]
    }
   ],
   "source": [
    "numero = int(input(\"Introduce un numero para ver su tabla de multiplicar: \"))\n",
    "for i in range(1, 11):\n",
    "    print(f\"{numero} x {i} = {numero * i}\")"
   ]
  },
  {
   "cell_type": "markdown",
   "id": "bedcc63a",
   "metadata": {},
   "source": [
    "#7) Crear un programa que pida al usuario dos números enteros distintos del 0 y muestre por pantalla el resultado de sumarlos, dividirlos, multiplicarlos y restarlos."
   ]
  },
  {
   "cell_type": "code",
   "execution_count": 9,
   "id": "b371c740",
   "metadata": {},
   "outputs": [
    {
     "name": "stdout",
     "output_type": "stream",
     "text": [
      "Suma: 20\n",
      "Resta: -10\n",
      "Multiplicacion: 75\n",
      "Division: 0.3333333333333333\n"
     ]
    }
   ],
   "source": [
    "numero1 = int(input(\"Introduce el primer numero (distinto de 0): \"))\n",
    "numero2 = int(input(\"Introduce el segundo numero (distinto de 0): \"))\n",
    "\n",
    "suma = numero1 + numero2\n",
    "resta = numero1 - numero2\n",
    "multiplicacion = numero1 * numero2\n",
    "division = numero1 / numero2\n",
    "\n",
    "print(f\"Suma: {suma}\")\n",
    "print(f\"Resta: {resta}\")\n",
    "print(f\"Multiplicacion: {multiplicacion}\")\n",
    "print(f\"Division: {division}\")"
   ]
  },
  {
   "cell_type": "markdown",
   "id": "cbbfa7e1",
   "metadata": {},
   "source": [
    "#8) Crear un programa que pida al usuario su altura y su peso e imprima por pantalla su índice de masa corporal."
   ]
  },
  {
   "cell_type": "code",
   "execution_count": 10,
   "id": "d9270c77",
   "metadata": {},
   "outputs": [
    {
     "name": "stdout",
     "output_type": "stream",
     "text": [
      "Tu indice de masa corporal (IMC) es: 0.01\n"
     ]
    }
   ],
   "source": [
    "peso = float(input(\"Introduce tu peso en kg: \"))\n",
    "altura = float(input(\"Introduce tu altura en metros: \"))\n",
    "imc = peso / altura ** 2\n",
    "print(f\"Tu indice de masa corporal (IMC) es: {imc:.2f}\")"
   ]
  },
  {
   "cell_type": "markdown",
   "id": "e44229d5",
   "metadata": {},
   "source": [
    "#9) Crear un programa que pida al usuario una temperatura en grados Celsius e imprima por pantalla su equivalente en grados Fahrenheit."
   ]
  },
  {
   "cell_type": "code",
   "execution_count": 11,
   "id": "fd6ba62f",
   "metadata": {},
   "outputs": [
    {
     "name": "stdout",
     "output_type": "stream",
     "text": [
      "La temperatura en Fahrenheit es: 71.60\n"
     ]
    }
   ],
   "source": [
    "celsius = float(input(\"Introduce la temperatura en grados Celsius: \"))\n",
    "fahrenheit = (9 / 5) * celsius + 32\n",
    "print(f\"La temperatura en Fahrenheit es: {fahrenheit:.2f}\")"
   ]
  },
  {
   "cell_type": "markdown",
   "id": "df567fd0",
   "metadata": {},
   "source": [
    "#10) Crear un programa que pida al usuario 3 números e imprima por pantalla el promedio de dichos números."
   ]
  },
  {
   "cell_type": "code",
   "execution_count": 12,
   "id": "46a13e1a",
   "metadata": {},
   "outputs": [
    {
     "name": "stdout",
     "output_type": "stream",
     "text": [
      "El promedio de los tres numeros es: 5.33\n"
     ]
    }
   ],
   "source": [
    "num1 = float(input(\"Introduce el primer numero: \"))\n",
    "num2 = float(input(\"Introduce el segundo numero: \"))\n",
    "num3 = float(input(\"Introduce el tercer numero: \"))\n",
    "promedio = (num1 + num2 + num3) / 3\n",
    "print(f\"El promedio de los tres numeros es: {promedio:.2f}\")"
   ]
  }
 ],
 "metadata": {
  "kernelspec": {
   "display_name": "Python 3",
   "language": "python",
   "name": "python3"
  },
  "language_info": {
   "codemirror_mode": {
    "name": "ipython",
    "version": 3
   },
   "file_extension": ".py",
   "mimetype": "text/x-python",
   "name": "python",
   "nbconvert_exporter": "python",
   "pygments_lexer": "ipython3",
   "version": "3.11.9"
  }
 },
 "nbformat": 4,
 "nbformat_minor": 5
}
