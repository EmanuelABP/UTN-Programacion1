{
 "cells": [
  {
   "cell_type": "markdown",
   "id": "798098d7",
   "metadata": {},
   "source": [
    "1) Crear una lista con los números del 1 al 100 que sean múltiplos de 4. Utilizar la función\n",
    "range."
   ]
  },
  {
   "cell_type": "code",
   "execution_count": 1,
   "id": "b12a4b4d",
   "metadata": {},
   "outputs": [
    {
     "name": "stdout",
     "output_type": "stream",
     "text": [
      "[4, 8, 12, 16, 20, 24, 28, 32, 36, 40, 44, 48, 52, 56, 60, 64, 68, 72, 76, 80, 84, 88, 92, 96, 100]\n"
     ]
    }
   ],
   "source": [
    "# Consigna 1: múltiplos de 4 entre 1 y 100\n",
    "multiplos = [i for i in range(1, 101) if i % 4 == 0]  # comprehension con condición módulo 4\n",
    "print(multiplos)  # Muestra la lista resultante"
   ]
  },
  {
   "cell_type": "markdown",
   "id": "896e24a6",
   "metadata": {},
   "source": [
    "2) Crear una lista con cinco elementos (colocar los elementos que más te gusten) y mostrar el\n",
    "penúltimo. ¡Puedes hacerlo como se muestra en los videos o bien investigar cómo funciona el\n",
    "indexing con números negativos!"
   ]
  },
  {
   "cell_type": "code",
   "execution_count": 3,
   "id": "987ca32e",
   "metadata": {},
   "outputs": [
    {
     "name": "stdout",
     "output_type": "stream",
     "text": [
      "jugar\n"
     ]
    }
   ],
   "source": [
    "# Consigna 2: lista con 5 gustos y mostrar el penúltimo\n",
    "gustos = [\"pizza\", \"chocolate\", \"musica\", \"jugar\", \"viajar\"]  # Lista de cinco elementos\n",
    "print(gustos[-2])  # Índice -2 → segundo desde el final (\"jugar\")"
   ]
  },
  {
   "cell_type": "markdown",
   "id": "ca3ff548",
   "metadata": {},
   "source": [
    "3) Crear una lista vacía, agregar tres palabras con append e imprimir la lista resultante por\n",
    "pantalla. Pista: para crear una lista vacía debes colocar los corchetes sin nada en su interior. Por\n",
    "ejemplo:\n",
    "lista_vacia = []"
   ]
  },
  {
   "cell_type": "code",
   "execution_count": 4,
   "id": "15d2922d",
   "metadata": {},
   "outputs": [
    {
     "name": "stdout",
     "output_type": "stream",
     "text": [
      "['sol', 'mar', 'montaña']\n"
     ]
    }
   ],
   "source": [
    "# Consigna 3: lista vacía y append de tres palabras\n",
    "lista_vacia = []               # Lista inicial vacía\n",
    "lista_vacia.append(\"sol\")      # Agrega \"sol\"\n",
    "lista_vacia.append(\"mar\")      # Agrega \"mar\"\n",
    "lista_vacia.append(\"montaña\")  # Agrega \"montaña\"\n",
    "print(lista_vacia)             # Muestra ['sol', 'mar', 'montaña']"
   ]
  },
  {
   "cell_type": "markdown",
   "id": "dadc43b1",
   "metadata": {},
   "source": [
    "4) Reemplazar el segundo y último valor de la lista “animales” con las palabras “loro” y “oso”,\n",
    "respectivamente. Imprimir la lista resultante por pantalla. ¡Puedes hacerlo como se muestra\n",
    "en los videos o bien investigar cómo funciona el indexing con números negativos!\n",
    "animales = [\"perro\", \"gato\", \"conejo\", \"pez\"]\n"
   ]
  },
  {
   "cell_type": "code",
   "execution_count": 5,
   "id": "0aa34e0a",
   "metadata": {},
   "outputs": [
    {
     "name": "stdout",
     "output_type": "stream",
     "text": [
      "['perro', 'loro', 'conejo', 'oso']\n"
     ]
    }
   ],
   "source": [
    "# Consigna 4: modificar posiciones en lista existente\n",
    "animales = [\"perro\", \"gato\", \"conejo\", \"pez\"]  # Lista original\n",
    "animales[1] = \"loro\"    # Posición 1 → segundo elemento\n",
    "animales[-1] = \"oso\"    # Índice -1 → último elemento\n",
    "print(animales)         # Resultado: ['perro', 'loro', 'conejo', 'oso']"
   ]
  },
  {
   "cell_type": "markdown",
   "id": "290b4450",
   "metadata": {},
   "source": [
    "5) Analizar el siguiente programa y explicar con tus palabras qué es lo que realiza.\n"
   ]
  },
  {
   "cell_type": "code",
   "execution_count": null,
   "id": "3186cff6",
   "metadata": {},
   "outputs": [],
   "source": [
    "numeros = [8, 15, 3, 22, 7]  #en esta linea se crea una lista llamada numero que contiene los numeros 8, 15, 3, 22 y 7 \n",
    "numeros.remove(max(numeros)) #en esta linea busca el numero con valor maximo max(numeros), luego lo elimina con remove(22) 22 es el mas alto\n",
    "print(numeros) #imprime la lista sin el 22 [8, 15, 3, 7]"
   ]
  },
  {
   "cell_type": "markdown",
   "id": "c9560dbd",
   "metadata": {},
   "source": [
    "6) Crear una lista con números del 10 al 30 (incluído), haciendo saltos de 5 en 5 y mostrar por\n",
    "pantalla los dos primeros."
   ]
  },
  {
   "cell_type": "code",
   "execution_count": 6,
   "id": "23f184d4",
   "metadata": {},
   "outputs": [
    {
     "name": "stdout",
     "output_type": "stream",
     "text": [
      "[10, 15]\n"
     ]
    }
   ],
   "source": [
    "# Consigna 6: range con paso 5 y slicing\n",
    "lista = list(range(10, 31, 5))  # [10, 15, 20, 25, 30]\n",
    "print(lista[:2])               # Slicing 0 y 1 → [10, 15]"
   ]
  },
  {
   "cell_type": "markdown",
   "id": "fae599a4",
   "metadata": {},
   "source": [
    "7) Reemplazar los dos valores centrales (índices 1 y 2) de la lista “autos” por dos nuevos valores\n",
    "cualesquiera.\n",
    "autos = [\"sedan\", \"polo\", \"suran\", \"gol\"]"
   ]
  },
  {
   "cell_type": "code",
   "execution_count": 7,
   "id": "cfb292ba",
   "metadata": {},
   "outputs": [
    {
     "name": "stdout",
     "output_type": "stream",
     "text": [
      "['sedan', 'camioneta', 'coupé', 'gol']\n"
     ]
    }
   ],
   "source": [
    "# Consigna 7: reemplazo de sublista en medio\n",
    "autos = [\"sedan\", \"polo\", \"suran\", \"gol\"]  # Lista original\n",
    "autos[1:3] = [\"camioneta\", \"coupé\"]        # Reemplaza índices 1 y 2\n",
    "print(autos)                              # Ejemplo salida: ['sedan', 'camioneta', 'coupé', 'gol']"
   ]
  },
  {
   "cell_type": "markdown",
   "id": "4db9ef5f",
   "metadata": {},
   "source": [
    "8) Crear una lista vacía llamada \"dobles\" y agregar el doble de 5, 10 y 15 usando append\n",
    "directamente. Imprimir la lista resultante por pantalla."
   ]
  },
  {
   "cell_type": "code",
   "execution_count": 8,
   "id": "5fa9dc40",
   "metadata": {},
   "outputs": [
    {
     "name": "stdout",
     "output_type": "stream",
     "text": [
      "[10, 20, 30]\n"
     ]
    }
   ],
   "source": [
    "# Consigna 8: lista de dobles\n",
    "dobles = []                 # Lista vacía\n",
    "dobles.append(5 * 2)        # Agrega 10\n",
    "dobles.append(10 * 2)       # Agrega 20\n",
    "dobles.append(15 * 2)       # Agrega 30\n",
    "print(dobles)               # Muestra [10, 20, 30]"
   ]
  },
  {
   "cell_type": "markdown",
   "id": "97a08cc6",
   "metadata": {},
   "source": [
    "9) Dada la lista “compras”, cuyos elementos representan los productos comprados por\n",
    "diferentes clientes:\n",
    "compras = [[\"pan\", \"leche\"], [\"arroz\", \"fideos\", \"salsa\"], [\"agua\"]]\n",
    "a) Agregar \"jugo\" a la lista del tercer cliente usando append.\n",
    "b) Reemplazar \"fideos\" por \"tallarines\" en la lista del segundo cliente.\n",
    "c) Eliminar \"pan\" de la lista del primer cliente.\n",
    "d) Imprimir la lista resultante por pantalla"
   ]
  },
  {
   "cell_type": "code",
   "execution_count": 9,
   "id": "51e1d9cc",
   "metadata": {},
   "outputs": [
    {
     "name": "stdout",
     "output_type": "stream",
     "text": [
      "[['leche'], ['arroz', 'tallarines', 'salsa'], ['agua', 'jugo']]\n"
     ]
    }
   ],
   "source": [
    "# Consigna 9: modificaciones en lista anidada\n",
    "compras = [[\"pan\", \"leche\"], [\"arroz\", \"fideos\", \"salsa\"], [\"agua\"]]\n",
    "\n",
    "compras[2].append(\"jugo\")                         # a) tercero += \"jugo\"\n",
    "compras[1][compras[1].index(\"fideos\")] = \"tallarines\"  # b) busca y reemplaza\n",
    "compras[0].remove(\"pan\")                          # c) elimina \"pan\" del primero\n",
    "\n",
    "print(compras)  # Muestra [['leche'], ['arroz','tallarines','salsa'], ['agua','jugo']]"
   ]
  },
  {
   "cell_type": "markdown",
   "id": "97f5b476",
   "metadata": {},
   "source": [
    "10) Elaborar una lista anidada llamada “lista_anidada” que contenga los siguientes elementos:\n",
    "● Posición lista_anidada[0]: 15\n",
    "● Posición lista_anidada[1]: True\n",
    "● Posición lista_anidada[2][0]: 25.5\n",
    "● Posición lista_anidada[2][1]: 57.9\n",
    "● Posición lista_anidada[2][2]: 30.6\n",
    "● Posición lista_anidada[3]: False\n",
    "Imprimir la lista resultante por pantalla."
   ]
  },
  {
   "cell_type": "code",
   "execution_count": 10,
   "id": "4dc8061f",
   "metadata": {},
   "outputs": [
    {
     "name": "stdout",
     "output_type": "stream",
     "text": [
      "[15, True, [25.5, 57.9, 30.6], False]\n"
     ]
    }
   ],
   "source": [
    "# Consigna 10: construir lista anidada según especificaciones\n",
    "lista_anidada = [\n",
    "    15,                    # [0]\n",
    "    True,                  # [1]\n",
    "    [25.5, 57.9, 30.6],    # [2] → sublista con índices 0,1,2\n",
    "    False                  # [3]\n",
    "]\n",
    "print(lista_anidada)      # Muestra [15, True, [25.5,57.9,30.6], False]"
   ]
  }
 ],
 "metadata": {
  "kernelspec": {
   "display_name": "Python 3",
   "language": "python",
   "name": "python3"
  },
  "language_info": {
   "codemirror_mode": {
    "name": "ipython",
    "version": 3
   },
   "file_extension": ".py",
   "mimetype": "text/x-python",
   "name": "python",
   "nbconvert_exporter": "python",
   "pygments_lexer": "ipython3",
   "version": "3.11.9"
  }
 },
 "nbformat": 4,
 "nbformat_minor": 5
}
