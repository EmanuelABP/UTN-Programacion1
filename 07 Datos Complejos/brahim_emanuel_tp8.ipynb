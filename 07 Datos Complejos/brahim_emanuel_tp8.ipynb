{
 "cells": [
  {
   "cell_type": "markdown",
   "id": "7a33b6b9",
   "metadata": {},
   "source": [
    "1) Dado el diccionario precios_frutas\n",
    "precios_frutas = {'Banana': 1200, 'Ananá': 2500, 'Melón': 3000, 'Uva':\n",
    "1450}\n",
    "Añadir las siguientes frutas con sus respectivos precios:\n",
    "● Naranja = 1200\n",
    "● Manzana = 1500\n",
    "● Pera = 2300"
   ]
  },
  {
   "cell_type": "code",
   "execution_count": 1,
   "id": "7557295b",
   "metadata": {},
   "outputs": [
    {
     "name": "stdout",
     "output_type": "stream",
     "text": [
      "Diccionario con nuevas frutas: {'Banana': 1200, 'Ananá': 2500, 'Melón': 3000, 'Uva': 1450, 'Naranja': 1200, 'Manzana': 1500, 'Pera': 2300}\n"
     ]
    }
   ],
   "source": [
    "# Creamos un diccionario con precios iniciales de algunas frutas\n",
    "precios_frutas = {\n",
    "    'Banana': 1200,\n",
    "    'Ananá': 2500,\n",
    "    'Melón': 3000,\n",
    "    'Uva': 1450\n",
    "}\n",
    "\n",
    "# Agregamos nuevas frutas con sus respectivos precios\n",
    "precios_frutas['Naranja'] = 1200  # Se agrega Naranja con precio 1200\n",
    "precios_frutas['Manzana'] = 1500  # Se agrega Manzana con precio 1500\n",
    "precios_frutas['Pera'] = 2300     # Se agrega Pera con precio 2300\n",
    "\n",
    "# Mostramos el diccionario actualizado\n",
    "print(\"Diccionario con nuevas frutas:\", precios_frutas)\n"
   ]
  },
  {
   "cell_type": "markdown",
   "id": "1127a948",
   "metadata": {},
   "source": [
    "2) Siguiendo con el diccionario precios_frutas que resulta luego de ejecutar el código\n",
    "desarrollado en el punto anterior, actualizar los precios de las siguientes frutas:\n",
    "● Banana = 1330\n",
    "● Manzana = 1700\n",
    "● Melón = 2800"
   ]
  },
  {
   "cell_type": "code",
   "execution_count": 2,
   "id": "00911276",
   "metadata": {},
   "outputs": [
    {
     "name": "stdout",
     "output_type": "stream",
     "text": [
      "Precios actualizados: {'Banana': 1330, 'Ananá': 2500, 'Melón': 2800, 'Uva': 1450, 'Naranja': 1200, 'Manzana': 1700, 'Pera': 2300}\n"
     ]
    }
   ],
   "source": [
    "# Actualizamos los precios de ciertas frutas en el diccionario existente\n",
    "precios_frutas['Banana'] = 1330   # Nuevo precio para Banana\n",
    "precios_frutas['Manzana'] = 1700  # Nuevo precio para Manzana\n",
    "precios_frutas['Melón'] = 2800    # Nuevo precio para Melón\n",
    "\n",
    "# Mostramos el diccionario con los precios actualizados\n",
    "print(\"Precios actualizados:\", precios_frutas)\n",
    "\n"
   ]
  },
  {
   "cell_type": "markdown",
   "id": "41f35723",
   "metadata": {},
   "source": [
    "3) Siguiendo con el diccionario precios_frutas que resulta luego de ejecutar el código\n",
    "desarrollado en el punto anterior, crear una lista que contenga únicamente las frutas sin los\n",
    "precios."
   ]
  },
  {
   "cell_type": "code",
   "execution_count": 4,
   "id": "60676e08",
   "metadata": {},
   "outputs": [
    {
     "name": "stdout",
     "output_type": "stream",
     "text": [
      "Lista de frutas: ['Banana', 'Ananá', 'Melón', 'Uva', 'Naranja', 'Manzana', 'Pera']\n"
     ]
    }
   ],
   "source": [
    "# Creamos una lista que contenga solo los nombres de las frutas\n",
    "solo_frutas = list(precios_frutas.keys())  # Extraemos las claves (nombres de frutas)\n",
    "\n",
    "# Mostramos la lista de frutas\n",
    "print(\"Lista de frutas:\", solo_frutas)\n"
   ]
  },
  {
   "cell_type": "markdown",
   "id": "b6de74e8",
   "metadata": {},
   "source": [
    "4) Escribí un programa que permita almacenar y consultar números telefónicos.\n",
    "• Permití al usuario cargar 5 contactos con su nombre como clave y número como valor.\n",
    "• Luego, pedí un nombre y mostrale el número asociado, si existe."
   ]
  },
  {
   "cell_type": "code",
   "execution_count": 5,
   "id": "28ee6470",
   "metadata": {},
   "outputs": [
    {
     "name": "stdout",
     "output_type": "stream",
     "text": [
      "El número de Emanuel es 123456\n"
     ]
    }
   ],
   "source": [
    "# Creamos un diccionario vacío para guardar contactos\n",
    "contactos = {}\n",
    "\n",
    "# Pedimos al usuario que ingrese 5 contactos\n",
    "for i in range(5):\n",
    "    nombre = input(f\"Ingresá el nombre del contacto {i+1}: \")\n",
    "    numero = input(f\"Ingresá el número de {nombre}: \")\n",
    "    contactos[nombre] = numero  # Guardamos el nombre como clave y el número como valor\n",
    "\n",
    "# Consultamos un número según el nombre ingresado por el usuario\n",
    "consulta = input(\"¿De qué contacto querés ver el número?: \")\n",
    "\n",
    "# Verificamos si el nombre está en el diccionario\n",
    "if consulta in contactos:\n",
    "    print(f\"El número de {consulta} es {contactos[consulta]}\")\n",
    "else:\n",
    "    print(\"Ese contacto no está en la agenda.\")\n"
   ]
  },
  {
   "cell_type": "markdown",
   "id": "142cae5f",
   "metadata": {},
   "source": [
    "5) Solicita al usuario una frase e imprime:\n",
    "• Las palabras únicas (usando un set).\n",
    "• Un diccionario con la cantidad de veces que aparece cada palabra."
   ]
  },
  {
   "cell_type": "code",
   "execution_count": 6,
   "id": "9941cb7e",
   "metadata": {},
   "outputs": [
    {
     "name": "stdout",
     "output_type": "stream",
     "text": [
      "Palabras únicas: {'hola', 'mundo'}\n",
      "Recuento de palabras: {'hola': 1, 'mundo': 1}\n"
     ]
    }
   ],
   "source": [
    "# Pedimos al usuario una frase\n",
    "frase = input(\"Ingresá una frase: \")\n",
    "\n",
    "# Separamos las palabras en una lista\n",
    "palabras = frase.split()\n",
    "\n",
    "# Creamos un set para obtener palabras únicas\n",
    "palabras_unicas = set(palabras)\n",
    "\n",
    "# Creamos un diccionario para contar cuántas veces aparece cada palabra\n",
    "recuento = {}\n",
    "\n",
    "# Recorremos las palabras de la lista\n",
    "for palabra in palabras:\n",
    "    if palabra in recuento:\n",
    "        recuento[palabra] += 1  # Si ya existe, sumamos uno\n",
    "    else:\n",
    "        recuento[palabra] = 1   # Si no existe, la agregamos con valor 1\n",
    "\n",
    "# Mostramos los resultados\n",
    "print(\"Palabras únicas:\", palabras_unicas)\n",
    "print(\"Recuento de palabras:\", recuento)\n"
   ]
  },
  {
   "cell_type": "markdown",
   "id": "19b79224",
   "metadata": {},
   "source": [
    "6) Permití ingresar los nombres de 3 alumnos, y para cada uno una tupla de 3 notas.\n",
    "Luego, mostrá el promedio de cada alumno."
   ]
  },
  {
   "cell_type": "code",
   "execution_count": 8,
   "id": "e7e6aaaa",
   "metadata": {},
   "outputs": [
    {
     "name": "stdout",
     "output_type": "stream",
     "text": [
      "El promedio de Emanuel es 8.33\n",
      "El promedio de Pepe es 7.00\n",
      "El promedio de Raul es 9.00\n"
     ]
    }
   ],
   "source": [
    "# Creamos un diccionario vacío para guardar alumnos y sus notas\n",
    "alumnos = {}\n",
    "\n",
    "# Ingresamos los datos de 3 alumnos\n",
    "for i in range(3):\n",
    "    nombre = input(f\"Ingresá el nombre del alumno {i+1}: \")\n",
    "    nota1 = int(input(\"Nota 1: \"))\n",
    "    nota2 = int(input(\"Nota 2: \"))\n",
    "    nota3 = int(input(\"Nota 3: \"))\n",
    "    alumnos[nombre] = (nota1, nota2, nota3)  # Guardamos las notas en una tupla\n",
    "\n",
    "# Calculamos y mostramos el promedio de cada alumno\n",
    "for nombre, notas in alumnos.items():\n",
    "    promedio = sum(notas) / len(notas)  # Sumamos las notas y dividimos por la cantidad\n",
    "    print(f\"El promedio de {nombre} es {promedio:.2f}\")\n"
   ]
  },
  {
   "cell_type": "markdown",
   "id": "d8894ff1",
   "metadata": {},
   "source": [
    "7) Dado dos sets de números, representando dos listas de estudiantes que aprobaron Parcial 1\n",
    "y Parcial 2:\n",
    "• Mostrá los que aprobaron ambos parciales.\n",
    "• Mostrá los que aprobaron solo uno de los dos.\n",
    "• Mostrá la lista total de estudiantes que aprobaron al menos un parcial (sin repetir)."
   ]
  },
  {
   "cell_type": "code",
   "execution_count": 10,
   "id": "4885f03e",
   "metadata": {},
   "outputs": [
    {
     "name": "stdout",
     "output_type": "stream",
     "text": [
      "Aprobaron ambos parciales: {'Emanuel', 'Marta'}\n",
      "Aprobaron solo uno de los dos: {'Carlos', 'Pedro', 'Ana', 'Sofía'}\n",
      "Aprobaron al menos uno: {'Carlos', 'Pedro', 'Ana', 'Sofía', 'Emanuel', 'Marta'}\n"
     ]
    }
   ],
   "source": [
    "# Creamos dos sets con los estudiantes que aprobaron cada parcial\n",
    "parcial1 = {\"Ana\", \"Emanuel\", \"Carlos\", \"Marta\"}\n",
    "parcial2 = {\"Emanuel\", \"Pedro\", \"Marta\", \"Sofía\"}\n",
    "\n",
    "# Estudiantes que aprobaron ambos parciales\n",
    "ambos = parcial1.intersection(parcial2)\n",
    "\n",
    "# Estudiantes que aprobaron solo uno de los dos\n",
    "solo_uno = parcial1.symmetric_difference(parcial2)\n",
    "\n",
    "# Estudiantes que aprobaron al menos un parcial\n",
    "al_menos_uno = parcial1.union(parcial2)\n",
    "\n",
    "# Mostramos los resultados\n",
    "print(\"Aprobaron ambos parciales:\", ambos)\n",
    "print(\"Aprobaron solo uno de los dos:\", solo_uno)\n",
    "print(\"Aprobaron al menos uno:\", al_menos_uno)\n"
   ]
  },
  {
   "cell_type": "markdown",
   "id": "cd498369",
   "metadata": {},
   "source": [
    "8) Armá un diccionario donde las claves sean nombres de productos y los valores su stock.\n",
    "Permití al usuario:\n",
    "• Consultar el stock de un producto ingresado.\n",
    "• Agregar unidades al stock si el producto ya existe.\n",
    "• Agregar un nuevo producto si no existe."
   ]
  },
  {
   "cell_type": "code",
   "execution_count": 12,
   "id": "c2002d09",
   "metadata": {},
   "outputs": [
    {
     "name": "stdout",
     "output_type": "stream",
     "text": [
      "Nuevo stock de arroz: 12\n"
     ]
    }
   ],
   "source": [
    "# Creamos un diccionario con productos y su stock\n",
    "stock_productos = {\n",
    "    \"arroz\": 10,\n",
    "    \"fideos\": 5,\n",
    "    \"azúcar\": 8\n",
    "}\n",
    "\n",
    "# Pedimos al usuario el nombre del producto que quiere consultar\n",
    "producto = input(\"¿Qué producto querés consultar o actualizar?: \")\n",
    "\n",
    "# Si el producto existe, permitimos agregar stock\n",
    "if producto in stock_productos:\n",
    "    unidades = int(input(\"¿Cuántas unidades querés agregar?: \"))\n",
    "    stock_productos[producto] += unidades\n",
    "    print(f\"Nuevo stock de {producto}: {stock_productos[producto]}\")\n",
    "else:\n",
    "    # Si no existe, preguntamos si quiere agregarlo\n",
    "    nuevo_stock = int(input(f\"{producto} no existe. ¿Cuántas unidades querés agregar?: \"))\n",
    "    stock_productos[producto] = nuevo_stock\n",
    "    print(f\"{producto} agregado al stock con {nuevo_stock} unidades.\")\n"
   ]
  },
  {
   "cell_type": "markdown",
   "id": "cdf64fe5",
   "metadata": {},
   "source": [
    "9) Creá una agenda donde las claves sean tuplas de (día, hora) y los valores sean eventos."
   ]
  },
  {
   "cell_type": "code",
   "execution_count": 14,
   "id": "0c20575f",
   "metadata": {},
   "outputs": [
    {
     "name": "stdout",
     "output_type": "stream",
     "text": [
      "Actividad para lunes a las 10:00: Reunión\n"
     ]
    }
   ],
   "source": [
    "# Creamos una agenda con tuplas (día, hora) como claves y eventos como valores\n",
    "agenda = {\n",
    "    (\"lunes\", \"10:00\"): \"Reunión\",\n",
    "    (\"martes\", \"15:00\"): \"Clases de inglés\"\n",
    "}\n",
    "\n",
    "# Pedimos al usuario un día y una hora para consultar\n",
    "dia = input(\"Ingresá un día: \").lower()\n",
    "hora = input(\"Ingresá una hora (formato hh:mm): \")\n",
    "\n",
    "# Buscamos la actividad correspondiente\n",
    "evento = agenda.get((dia, hora), \"No hay actividad programada.\")\n",
    "\n",
    "# Mostramos el resultado\n",
    "print(f\"Actividad para {dia} a las {hora}: {evento}\")\n"
   ]
  },
  {
   "cell_type": "markdown",
   "id": "17a2bcfd",
   "metadata": {},
   "source": [
    "10) Dado un diccionario que mapea nombres de países con sus capitales, construí un nuevo\n",
    "diccionario donde:\n",
    "• Las capitales sean las claves.\n",
    "• Los países sean los valores."
   ]
  },
  {
   "cell_type": "code",
   "execution_count": 15,
   "id": "25f24002",
   "metadata": {},
   "outputs": [
    {
     "name": "stdout",
     "output_type": "stream",
     "text": [
      "Diccionario invertido: {'Buenos Aires': 'Argentina', 'Santiago': 'Chile', 'Montevideo': 'Uruguay'}\n"
     ]
    }
   ],
   "source": [
    "# Diccionario original de países y sus capitales\n",
    "paises = {\n",
    "    \"Argentina\": \"Buenos Aires\",\n",
    "    \"Chile\": \"Santiago\",\n",
    "    \"Uruguay\": \"Montevideo\"\n",
    "}\n",
    "\n",
    "# Creamos un nuevo diccionario invirtiendo claves y valores\n",
    "capitales = {}\n",
    "\n",
    "# Recorremos el diccionario original\n",
    "for pais, capital in paises.items():\n",
    "    capitales[capital] = pais  # Guardamos capital como clave y país como valor\n",
    "\n",
    "# Mostramos el diccionario invertido\n",
    "print(\"Diccionario invertido:\", capitales)\n"
   ]
  }
 ],
 "metadata": {
  "kernelspec": {
   "display_name": "Python 3",
   "language": "python",
   "name": "python3"
  },
  "language_info": {
   "codemirror_mode": {
    "name": "ipython",
    "version": 3
   },
   "file_extension": ".py",
   "mimetype": "text/x-python",
   "name": "python",
   "nbconvert_exporter": "python",
   "pygments_lexer": "ipython3",
   "version": "3.11.9"
  }
 },
 "nbformat": 4,
 "nbformat_minor": 5
}
