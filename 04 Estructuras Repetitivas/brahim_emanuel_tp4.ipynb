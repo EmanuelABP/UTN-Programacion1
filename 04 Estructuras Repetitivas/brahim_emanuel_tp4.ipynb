{
 "cells": [
  {
   "cell_type": "markdown",
   "id": "c29fc89a",
   "metadata": {},
   "source": [
    "1) Crea un programa que imprima en pantalla todos los números enteros desde 0 hasta 100\n",
    "(incluyendo ambos extremos), en orden creciente, mostrando un número por línea."
   ]
  },
  {
   "cell_type": "code",
   "execution_count": 13,
   "id": "2af92a0c",
   "metadata": {},
   "outputs": [
    {
     "name": "stdout",
     "output_type": "stream",
     "text": [
      "0\n",
      "1\n",
      "2\n",
      "3\n",
      "4\n",
      "5\n",
      "6\n",
      "7\n",
      "8\n",
      "9\n",
      "10\n",
      "11\n",
      "12\n",
      "13\n",
      "14\n",
      "15\n",
      "16\n",
      "17\n",
      "18\n",
      "19\n",
      "20\n",
      "21\n",
      "22\n",
      "23\n",
      "24\n",
      "25\n",
      "26\n",
      "27\n",
      "28\n",
      "29\n",
      "30\n",
      "31\n",
      "32\n",
      "33\n",
      "34\n",
      "35\n",
      "36\n",
      "37\n",
      "38\n",
      "39\n",
      "40\n",
      "41\n",
      "42\n",
      "43\n",
      "44\n",
      "45\n",
      "46\n",
      "47\n",
      "48\n",
      "49\n",
      "50\n",
      "51\n",
      "52\n",
      "53\n",
      "54\n",
      "55\n",
      "56\n",
      "57\n",
      "58\n",
      "59\n",
      "60\n",
      "61\n",
      "62\n",
      "63\n",
      "64\n",
      "65\n",
      "66\n",
      "67\n",
      "68\n",
      "69\n",
      "70\n",
      "71\n",
      "72\n",
      "73\n",
      "74\n",
      "75\n",
      "76\n",
      "77\n",
      "78\n",
      "79\n",
      "80\n",
      "81\n",
      "82\n",
      "83\n",
      "84\n",
      "85\n",
      "86\n",
      "87\n",
      "88\n",
      "89\n",
      "90\n",
      "91\n",
      "92\n",
      "93\n",
      "94\n",
      "95\n",
      "96\n",
      "97\n",
      "98\n",
      "99\n",
      "100\n"
     ]
    }
   ],
   "source": [
    "# Consigna 1: Imprimir enteros de 0 a 100\n",
    "for i in range(101):          # Recorre valores de 0 hasta 100\n",
    "    print(i)                  # Imprime cada número en una línea"
   ]
  },
  {
   "cell_type": "markdown",
   "id": "f38398b9",
   "metadata": {},
   "source": [
    "2) Desarrolla un programa que solicite al usuario un número entero y determine la cantidad de\n",
    "dígitos que contiene."
   ]
  },
  {
   "cell_type": "code",
   "execution_count": 14,
   "id": "4730c776",
   "metadata": {},
   "outputs": [
    {
     "name": "stdout",
     "output_type": "stream",
     "text": [
      "Cantidad de dígitos: 3\n"
     ]
    }
   ],
   "source": [
    "# Consigna 2: Contar cantidad de dígitos de un entero\n",
    "num = input(\"Ingrese un número entero: \")        # Lee entrada como texto\n",
    "print(f\"Cantidad de dígitos: {len(num)}\")        # Longitud de la cadena"
   ]
  },
  {
   "cell_type": "markdown",
   "id": "9132701a",
   "metadata": {},
   "source": [
    "3) Escribe un programa que sume todos los números enteros comprendidos entre dos valores\n",
    "dados por el usuario, excluyendo esos dos valores."
   ]
  },
  {
   "cell_type": "code",
   "execution_count": 15,
   "id": "54a705c7",
   "metadata": {},
   "outputs": [
    {
     "name": "stdout",
     "output_type": "stream",
     "text": [
      "Suma entre 5 y 15 (excluyendo): 90\n"
     ]
    }
   ],
   "source": [
    "# Consigna 3: Sumar enteros entre dos valores (excluyéndolos)\n",
    "a = int(input(\"Ingrese el valor A: \"))           # Primer límite\n",
    "b = int(input(\"Ingrese el valor B: \"))           # Segundo límite\n",
    "total = 0                                        # Inicializa acumulador\n",
    "for i in range(min(a, b) + 1, max(a, b)):        # Entre A y B sin incluirlos\n",
    "    total += i                                   # Suma cada valor intermedio\n",
    "print(f\"Suma entre {a} y {b} (excluyendo): {total}\")"
   ]
  },
  {
   "cell_type": "markdown",
   "id": "0acad62e",
   "metadata": {},
   "source": [
    "4) Elabora un programa que permita al usuario ingresar números enteros y los sume en\n",
    "secuencia. El programa debe detenerse y mostrar el total acumulado cuando el usuario ingrese\n",
    "un 0."
   ]
  },
  {
   "cell_type": "code",
   "execution_count": 16,
   "id": "a04a613f",
   "metadata": {},
   "outputs": [
    {
     "name": "stdout",
     "output_type": "stream",
     "text": [
      "Total acumulado: 6\n"
     ]
    }
   ],
   "source": [
    "# Consigna 4: Sumar números hasta que ingrese 0\n",
    "total = 0                                        # Inicializa acumulador\n",
    "while True:                                      # Bucle infinito\n",
    "    n = int(input(\"Ingrese un entero (0 para terminar): \"))\n",
    "    if n == 0:                                   # Si ingresa 0\n",
    "        break                                   # Sale del bucle\n",
    "    total += n                                  # Acumula el número\n",
    "print(f\"Total acumulado: {total}\")               # Muestra total"
   ]
  },
  {
   "cell_type": "markdown",
   "id": "c8f0f42d",
   "metadata": {},
   "source": [
    "5) Crea un juego en el que el usuario deba adivinar un número aleatorio entre 0 y 9. Al final, el\n",
    "programa debe mostrar cuántos intentos fueron necesarios para acertar el número."
   ]
  },
  {
   "cell_type": "code",
   "execution_count": 17,
   "id": "ebef7638",
   "metadata": {},
   "outputs": [
    {
     "name": "stdout",
     "output_type": "stream",
     "text": [
      "Intenta de nuevo.\n",
      "Intenta de nuevo.\n",
      "Intenta de nuevo.\n",
      "Intenta de nuevo.\n",
      "¡Correcto! Intentos: 5\n"
     ]
    }
   ],
   "source": [
    "# Consigna 5: Juego de adivinar un número 0–9\n",
    "import random                                    # Para generar aleatorios\n",
    "objetivo = random.randint(0, 9)                  # Número a adivinar\n",
    "intentos = 0                                     # Contador de intentos\n",
    "while True:                                      # Bucle hasta acertar\n",
    "    guess = int(input(\"Adivina el número (0-9): \"))\n",
    "    intentos += 1                                # Incrementa contador\n",
    "    if guess == objetivo:                        # Si coincide\n",
    "        print(f\"¡Correcto! Intentos: {intentos}\")\n",
    "        break                                    # Termina el juego\n",
    "    else:\n",
    "        print(\"Intenta de nuevo.\")               # Mensaje de error"
   ]
  },
  {
   "cell_type": "markdown",
   "id": "7f6c4874",
   "metadata": {},
   "source": [
    "6) Desarrolla un programa que imprima en pantalla todos los números pares comprendidos\n",
    "entre 0 y 100, en orden decreciente."
   ]
  },
  {
   "cell_type": "code",
   "execution_count": 18,
   "id": "150758d2",
   "metadata": {},
   "outputs": [
    {
     "name": "stdout",
     "output_type": "stream",
     "text": [
      "100\n",
      "98\n",
      "96\n",
      "94\n",
      "92\n",
      "90\n",
      "88\n",
      "86\n",
      "84\n",
      "82\n",
      "80\n",
      "78\n",
      "76\n",
      "74\n",
      "72\n",
      "70\n",
      "68\n",
      "66\n",
      "64\n",
      "62\n",
      "60\n",
      "58\n",
      "56\n",
      "54\n",
      "52\n",
      "50\n",
      "48\n",
      "46\n",
      "44\n",
      "42\n",
      "40\n",
      "38\n",
      "36\n",
      "34\n",
      "32\n",
      "30\n",
      "28\n",
      "26\n",
      "24\n",
      "22\n",
      "20\n",
      "18\n",
      "16\n",
      "14\n",
      "12\n",
      "10\n",
      "8\n",
      "6\n",
      "4\n",
      "2\n",
      "0\n"
     ]
    }
   ],
   "source": [
    "# Consigna 6: Pares de 0 a 100 en orden inverso\n",
    "for i in range(100, -1, -1):                     # De 100 a 0\n",
    "    if i % 2 == 0:                               # Comprueba si es par\n",
    "        print(i)                                 # Imprime el número"
   ]
  },
  {
   "cell_type": "markdown",
   "id": "5106b4ea",
   "metadata": {},
   "source": [
    "7) Crea un programa que calcule la suma de todos los números comprendidos entre 0 y un\n",
    "número entero positivo indicado por el usuario."
   ]
  },
  {
   "cell_type": "code",
   "execution_count": 19,
   "id": "8ee4429b",
   "metadata": {},
   "outputs": [
    {
     "name": "stdout",
     "output_type": "stream",
     "text": [
      "Suma desde 0 hasta 3: 6\n"
     ]
    }
   ],
   "source": [
    "# Consigna 7: Sumar de 0 a n\n",
    "n = int(input(\"Ingrese un entero positivo: \"))   # Límite superior\n",
    "total = sum(range(n + 1))                        # Suma 0..n\n",
    "print(f\"Suma desde 0 hasta {n}: {total}\")"
   ]
  },
  {
   "cell_type": "markdown",
   "id": "da0945bc",
   "metadata": {},
   "source": [
    "8) Escribe un programa que permita al usuario ingresar 100 números enteros. Luego, el\n",
    "programa debe indicar cuántos de estos números son pares, cuántos son impares, cuántos son\n",
    "negativos y cuántos son positivos. (Nota: para probar el programa puedes usar una cantidad\n",
    "menor, pero debe estar preparado para procesar 100 números con un solo cambio)."
   ]
  },
  {
   "cell_type": "code",
   "execution_count": 20,
   "id": "3ecd6a74",
   "metadata": {},
   "outputs": [
    {
     "name": "stdout",
     "output_type": "stream",
     "text": [
      "Pares: 41, Impares: 59, Negativos: 0, Positivos: 99\n"
     ]
    }
   ],
   "source": [
    "# Consigna 8: Contar pares, impares, negativos y positivos\n",
    "pares = impares = negativos = positivos = 0       # Inicializa contadores\n",
    "for _ in range(100):                              # Repetir 100 veces\n",
    "    num = int(input(\"Ingrese un entero: \"))\n",
    "    if num < 0:\n",
    "        negativos += 1                           # Cuenta negativos\n",
    "    elif num > 0:\n",
    "        positivos += 1                           # Cuenta positivos\n",
    "    if num % 2 == 0:\n",
    "        pares += 1                               # Cuenta pares\n",
    "    else:\n",
    "        impares += 1                             # Cuenta impares\n",
    "print(f\"Pares: {pares}, Impares: {impares}, Negativos: {negativos}, Positivos: {positivos}\")"
   ]
  },
  {
   "cell_type": "markdown",
   "id": "4760fbdd",
   "metadata": {},
   "source": [
    "9) Elabora un programa que permita al usuario ingresar 100 números enteros y luego calcule la\n",
    "media de esos valores. (Nota: puedes probar el programa con una cantidad menor, pero debe\n",
    "poder procesar 100 números cambiando solo un valor)."
   ]
  },
  {
   "cell_type": "code",
   "execution_count": 22,
   "id": "94f277eb",
   "metadata": {},
   "outputs": [
    {
     "name": "stdout",
     "output_type": "stream",
     "text": [
      "Promedio de los 100 valores: 6.68\n"
     ]
    }
   ],
   "source": [
    "# Consigna 9: Calcular la media de 100 valores\n",
    "total = 0                                         # Acumulador\n",
    "for _ in range(100):                              # Leer 100 valores\n",
    "    total += int(input(\"Ingrese un entero: \"))\n",
    "promedio = total / 100 if total or True else 0    # Evita división por cero\n",
    "print(f\"Promedio de los 100 valores: {promedio}\")"
   ]
  },
  {
   "cell_type": "markdown",
   "id": "6aa31110",
   "metadata": {},
   "source": [
    "10) Escribe un programa que invierta el orden de los dígitos de un número ingresado por el\n",
    "usuario. Ejemplo: si el usuario ingresa 547, el programa debe mostrar 745."
   ]
  },
  {
   "cell_type": "code",
   "execution_count": 23,
   "id": "275b639e",
   "metadata": {},
   "outputs": [
    {
     "name": "stdout",
     "output_type": "stream",
     "text": [
      "Número invertido: 745\n"
     ]
    }
   ],
   "source": [
    "# Consigna 10: Invertir dígitos de un número\n",
    "num = input(\"Ingrese un número: \")                # Leer como cadena\n",
    "invertido = num[::-1]                             # Rebanada invertida\n",
    "print(f\"Número invertido: {invertido}\")"
   ]
  }
 ],
 "metadata": {
  "kernelspec": {
   "display_name": "Python 3",
   "language": "python",
   "name": "python3"
  },
  "language_info": {
   "codemirror_mode": {
    "name": "ipython",
    "version": 3
   },
   "file_extension": ".py",
   "mimetype": "text/x-python",
   "name": "python",
   "nbconvert_exporter": "python",
   "pygments_lexer": "ipython3",
   "version": "3.11.9"
  }
 },
 "nbformat": 4,
 "nbformat_minor": 5
}
