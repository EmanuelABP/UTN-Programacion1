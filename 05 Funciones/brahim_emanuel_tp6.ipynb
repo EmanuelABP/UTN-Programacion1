{
 "cells": [
  {
   "cell_type": "markdown",
   "id": "798098d7",
   "metadata": {},
   "source": [
    "1. Crear una función llamada imprimir_hola_mundo que imprima por pantalla el mensaje: “Hola Mundo!”. Llamar a esta función desde el programa principal."
   ]
  },
  {
   "cell_type": "code",
   "execution_count": 1,
   "id": "b12a4b4d",
   "metadata": {},
   "outputs": [
    {
     "name": "stdout",
     "output_type": "stream",
     "text": [
      "¡Hola Mundo!\n"
     ]
    }
   ],
   "source": [
    "#Funcion imprimir_hola_mundo\n",
    "def imprimir_hola_mundo():\n",
    "    print(\"¡Hola Mundo!\") #Imprime Hola Mundo\n",
    "\n",
    "# Programa principal\n",
    "imprimir_hola_mundo() #llama a la funcion"
   ]
  },
  {
   "cell_type": "markdown",
   "id": "896e24a6",
   "metadata": {},
   "source": [
    "2. Crear una función llamada saludar_usuario(nombre) que reciba como parámetro un nombre y devuelva un saludo personalizado. Por ejemplo, si se llama con saludar_usuario(\"Marcos\"), deberá devolver: “Hola Marcos!”. Llamar a esta función desde el programa principal solicitando el nombre al usuario."
   ]
  },
  {
   "cell_type": "code",
   "execution_count": null,
   "id": "4dc8061f",
   "metadata": {},
   "outputs": [
    {
     "name": "stdout",
     "output_type": "stream",
     "text": [
      "Hola Emanuel!\n"
     ]
    }
   ],
   "source": [
    "#funcion saludar_usuario\n",
    "def saludar_usuario(nombre):\n",
    "    return f\"Hola {nombre}!\" #retorna el valor\n",
    "\n",
    "# Programa principal\n",
    "nombre_usuario = input(\"Ingrese su nombre: \") #Se solicita el nombre y se almacena en nombre_usuario\n",
    "saludo = saludar_usuario(nombre_usuario) #llama a la funcion enviando el valor de nombre_usuario y lo que retorna se almacena en saludo\n",
    "print(saludo)#imprime saludo"
   ]
  },
  {
   "cell_type": "markdown",
   "id": "3d3834c2",
   "metadata": {},
   "source": [
    "3. Crear una función llamada informacion_personal(nombre, apellido, edad, residencia) que reciba cuatro parámetros e imprima: “Soy [nombre] [apellido], tengo [edad] años y vivo en [residencia]”. Pe- dir los datos al usuario y llamar a esta función con los valores ingresados."
   ]
  },
  {
   "cell_type": "code",
   "execution_count": 3,
   "id": "ca8c1d2f",
   "metadata": {},
   "outputs": [
    {
     "name": "stdout",
     "output_type": "stream",
     "text": [
      "Soy Emanuel Brahim, tengo 22 años y vivo en Colon.\n"
     ]
    }
   ],
   "source": [
    "#funcion informacion_personal\n",
    "def informacion_personal(nombre, apellido, edad, residencia):\n",
    "    print(f\"Soy {nombre} {apellido}, tengo {edad} años y vivo en {residencia}.\") #imprime frase con lo recibido\n",
    "\n",
    "# Programa principal\n",
    "nombre = input(\"Ingrese su nombre: \") #se pide el nombre al usuario\n",
    "apellido = input(\"Ingrese su apellido: \") #se pide el apellido al usuario\n",
    "edad = input(\"Ingrese su edad: \") #se pide la edad al usuario\n",
    "residencia = input(\"Ingrese su lugar de residencia: \") #se pide la residencia al usuario\n",
    "informacion_personal(nombre, apellido, edad, residencia) #llama a la funcion enviando los valores del usuario"
   ]
  },
  {
   "cell_type": "markdown",
   "id": "366c6bd9",
   "metadata": {},
   "source": [
    "4. Crear dos funciones: calcular_area_circulo(radio) que reciba el radio como parámetro y devuelva el área del círculo. calcular_peri- metro_circulo(radio) que reciba el radio como parámetro y devuelva el perímetro del círculo. Solicitar el radio al usuario y llamar ambas funciones para mostrar los resultados"
   ]
  },
  {
   "cell_type": "code",
   "execution_count": 4,
   "id": "59ad8052",
   "metadata": {},
   "outputs": [
    {
     "name": "stdout",
     "output_type": "stream",
     "text": [
      "Área: 452.39\n",
      "Perímetro: 75.40\n"
     ]
    }
   ],
   "source": [
    "import math # Importo el módulo math para usar constantes y funciones matemáticas\n",
    "\n",
    "def calcular_area_circulo(radio): # Función que recibe el radio\n",
    "    return math.pi * radio ** 2 # Retorna área = pi * radio^2\n",
    "\n",
    "def calcular_perimetro_circulo(radio):  # Función que recibe el radio\n",
    "    return 2 * math.pi * radio  # Retorna perímetro = 2 * pi * radio\n",
    "\n",
    "# Programa principal\n",
    "radio = float(input(\"Ingrese el radio del círculo: \"))  # Pido radio y convierto a float\n",
    "area = calcular_area_circulo(radio)   # Llamo función para calcular área\n",
    "perimetro = calcular_perimetro_circulo(radio)  # Llamo función para calcular perímetro\n",
    "print(f\"Área: {area:.2f}\")   # Imprimo área con 2 decimales\n",
    "print(f\"Perímetro: {perimetro:.2f}\")  # Imprimo perímetro con 2 decimales\n"
   ]
  },
  {
   "cell_type": "markdown",
   "id": "4b07273b",
   "metadata": {},
   "source": [
    "5. Crear una función llamada segundos_a_horas(segundos) que reciba una cantidad de segundos como parámetro y devuelva la cantidad de horas correspondientes. Solicitar al usuario los segundos y mos- trar el resultado usando esta función."
   ]
  },
  {
   "cell_type": "code",
   "execution_count": 5,
   "id": "f9ff1e5e",
   "metadata": {},
   "outputs": [
    {
     "name": "stdout",
     "output_type": "stream",
     "text": [
      "1658 segundos son 0.46 horas.\n"
     ]
    }
   ],
   "source": [
    "def segundos_a_horas(segundos):              # Función que recibe segundos\n",
    "    return segundos / 3600                    # Retorna equivalencia en horas dividiendo por 3600\n",
    "\n",
    "# Programa principal\n",
    "segundos = int(input(\"Ingrese la cantidad de segundos: \"))  # Pido segundos y convierto a entero\n",
    "horas = segundos_a_horas(segundos)                            # Llamo función para convertir a horas\n",
    "print(f\"{segundos} segundos son {horas:.2f} horas.\")         # Imprimo resultado con 2 decimales\n"
   ]
  },
  {
   "cell_type": "markdown",
   "id": "f8701daa",
   "metadata": {},
   "source": [
    "6. Crear una función llamada tabla_multiplicar(numero) que reciba un número como parámetro y imprima la tabla de multiplicar de ese número del 1 al 10. Pedir al usuario el número y llamar a la función."
   ]
  },
  {
   "cell_type": "code",
   "execution_count": 6,
   "id": "6dda8c26",
   "metadata": {},
   "outputs": [
    {
     "name": "stdout",
     "output_type": "stream",
     "text": [
      "9 x 1 = 9\n",
      "9 x 2 = 18\n",
      "9 x 3 = 27\n",
      "9 x 4 = 36\n",
      "9 x 5 = 45\n",
      "9 x 6 = 54\n",
      "9 x 7 = 63\n",
      "9 x 8 = 72\n",
      "9 x 9 = 81\n",
      "9 x 10 = 90\n"
     ]
    }
   ],
   "source": [
    "def tabla_multiplicar(numero):              # Función que recibe un número\n",
    "    for i in range(1, 11):                   # Itero desde 1 hasta 10 inclusive\n",
    "        print(f\"{numero} x {i} = {numero * i}\")  # Imprimo la multiplicación del número por i\n",
    "\n",
    "# Programa principal\n",
    "numero = int(input(\"Ingrese un número para la tabla de multiplicar: \"))  # Pido número y convierto a entero\n",
    "tabla_multiplicar(numero)                                                 # Llamo función para imprimir tabla\n"
   ]
  },
  {
   "cell_type": "markdown",
   "id": "f83f5ccf",
   "metadata": {},
   "source": [
    "7. Crear una función llamada operaciones_basicas(a, b) que reciba dos números como parámetros y devuelva una tupla con el resultado de sumarlos, restarlos, multiplicarlos y dividirlos. Mostrar los resultados de forma clara."
   ]
  },
  {
   "cell_type": "code",
   "execution_count": 7,
   "id": "5c923dd4",
   "metadata": {},
   "outputs": [
    {
     "name": "stdout",
     "output_type": "stream",
     "text": [
      "Suma: 14.0\n",
      "Resta: 4.0\n",
      "Multiplicación: 45.0\n",
      "División: 1.8\n"
     ]
    }
   ],
   "source": [
    "def operaciones_basicas(a, b):               # Función que recibe dos números\n",
    "    suma = a + b                             # Suma\n",
    "    resta = a - b                            # Resta\n",
    "    multiplicacion = a * b                   # Multiplicación\n",
    "    division = a / b if b != 0 else \"Indefinida (división por cero)\"  # División con control de división por cero\n",
    "    return (suma, resta, multiplicacion, division)  # Retorno todos los resultados en una tupla\n",
    "\n",
    "# Programa principal\n",
    "a = float(input(\"Ingrese el primer número: \"))   # Pido primer número y convierto a float\n",
    "b = float(input(\"Ingrese el segundo número: \"))  # Pido segundo número y convierto a float\n",
    "resultados = operaciones_basicas(a, b)            # Llamo función y guardo la tupla con resultados\n",
    "print(f\"Suma: {resultados[0]}\")                    # Imprimo suma (primer elemento tupla)\n",
    "print(f\"Resta: {resultados[1]}\")                   # Imprimo resta (segundo elemento tupla)\n",
    "print(f\"Multiplicación: {resultados[2]}\")          # Imprimo multiplicación (tercer elemento tupla)\n",
    "print(f\"División: {resultados[3]}\")                 # Imprimo división (cuarto elemento tupla)\n"
   ]
  },
  {
   "cell_type": "markdown",
   "id": "b577ffe7",
   "metadata": {},
   "source": [
    "8. Crear una función llamada calcular_imc(peso, altura) que reciba el peso en kilogramos y la altura en metros, y devuelva el índice de masa corporal (IMC). Solicitar al usuario los datos y llamar a la función para mostrar el resultado con dos decimales."
   ]
  },
  {
   "cell_type": "code",
   "execution_count": 9,
   "id": "8da02a87",
   "metadata": {},
   "outputs": [
    {
     "name": "stdout",
     "output_type": "stream",
     "text": [
      "Su IMC es: 0.00\n"
     ]
    }
   ],
   "source": [
    "def calcular_imc(peso, altura):                    # Función que recibe peso y altura\n",
    "    imc = peso / (altura ** 2)                      # Calcula índice de masa corporal\n",
    "    return imc                                      # Devuelve el resultado\n",
    "\n",
    "# Programa principal\n",
    "peso = float(input(\"Ingrese su peso en kilogramos: \"))   # Pido peso y convierto a float\n",
    "altura = float(input(\"Ingrese su altura en metros: \"))   # Pido altura y convierto a float\n",
    "imc = calcular_imc(peso, altura)                          # Llamo función para calcular IMC\n",
    "print(f\"Su IMC es: {imc:.2f}\")                            # Imprimo IMC con 2 decimales\n"
   ]
  },
  {
   "cell_type": "markdown",
   "id": "4a4099e1",
   "metadata": {},
   "source": [
    "9. Crear una función llamada celsius_a_fahrenheit(celsius) que reciba una temperatura en grados Celsius y devuelva su equivalente en Fahrenheit. Pedir al usuario la temperatura en Celsius y mostrar el resultado usando la función"
   ]
  },
  {
   "cell_type": "code",
   "execution_count": 10,
   "id": "0010a938",
   "metadata": {},
   "outputs": [
    {
     "name": "stdout",
     "output_type": "stream",
     "text": [
      "12.0°C equivalen a 53.60°F\n"
     ]
    }
   ],
   "source": [
    "def celsius_a_fahrenheit(celsius):                  # Función que recibe grados Celsius\n",
    "    return celsius * 9/5 + 32                        # Convierte y devuelve grados Fahrenheit\n",
    "\n",
    "# Programa principal\n",
    "celsius = float(input(\"Ingrese la temperatura en grados Celsius: \"))  # Pido temperatura en Celsius\n",
    "fahrenheit = celsius_a_fahrenheit(celsius)                            # Llamo función para convertir\n",
    "print(f\"{celsius}°C equivalen a {fahrenheit:.2f}°F\")                  # Imprimo resultado con 2 decimales\n"
   ]
  },
  {
   "cell_type": "markdown",
   "id": "1e08a9ad",
   "metadata": {},
   "source": [
    "10.Crear una función llamada calcular_promedio(a, b, c) que reciba tres números como parámetros y devuelva el promedio de ellos. Solicitar los números al usuario y mostrar el resultado usando esta función."
   ]
  },
  {
   "cell_type": "code",
   "execution_count": 11,
   "id": "ad864257",
   "metadata": {},
   "outputs": [
    {
     "name": "stdout",
     "output_type": "stream",
     "text": [
      "El promedio es: 8.00\n"
     ]
    }
   ],
   "source": [
    "def calcular_promedio(a, b, c):              # Función que recibe tres números\n",
    "    return (a + b + c) / 3                   # Retorna el promedio de los tres\n",
    "\n",
    "# Programa principal\n",
    "num1 = float(input(\"Ingrese el primer número: \"))   # Pido primer número\n",
    "num2 = float(input(\"Ingrese el segundo número: \"))  # Pido segundo número\n",
    "num3 = float(input(\"Ingrese el tercer número: \"))   # Pido tercer número\n",
    "promedio = calcular_promedio(num1, num2, num3)       # Llamo función para calcular promedio\n",
    "print(f\"El promedio es: {promedio:.2f}\")             # Imprimo promedio con 2 decimales\n"
   ]
  }
 ],
 "metadata": {
  "kernelspec": {
   "display_name": "Python 3",
   "language": "python",
   "name": "python3"
  },
  "language_info": {
   "codemirror_mode": {
    "name": "ipython",
    "version": 3
   },
   "file_extension": ".py",
   "mimetype": "text/x-python",
   "name": "python",
   "nbconvert_exporter": "python",
   "pygments_lexer": "ipython3",
   "version": "3.11.9"
  }
 },
 "nbformat": 4,
 "nbformat_minor": 5
}
